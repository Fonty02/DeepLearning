{
  "cells": [
    {
      "cell_type": "markdown",
      "metadata": {
        "id": "BIjd5xH87QiW"
      },
      "source": [
        "# Introduction to Multilayer Perceptrons with PyTorch\n",
        "\n",
        "In this notebook, we will:\n",
        "1. Load and preprocess a digit classification dataset.\n",
        "2. Get a quick introduction to PyTorch basics.\n",
        "3. Implement a Multilayer Perceptron (MLP) for digit classification in PyTorch."
      ],
      "id": "BIjd5xH87QiW"
    },
    {
      "cell_type": "markdown",
      "metadata": {
        "id": "piu5a09L7Qia"
      },
      "source": [
        "## Loading and Preprocessing the Digits Dataset"
      ],
      "id": "piu5a09L7Qia"
    },
    {
      "cell_type": "code",
      "metadata": {
        "colab": {
          "base_uri": "https://localhost:8080/"
        },
        "id": "Lk-2hl1j7Qib",
        "outputId": "fc71dc79-c3b6-4938-9cb4-ce24287a97d0"
      },
      "source": [
        "import numpy as np\n",
        "import matplotlib.pyplot as plt\n",
        "from sklearn.datasets import load_digits\n",
        "from sklearn.model_selection import train_test_split\n",
        "from sklearn.preprocessing import StandardScaler, OneHotEncoder\n",
        "\n",
        "# Load dataset\n",
        "digits = load_digits()\n",
        "X, y = digits.data, digits.target\n",
        "\n",
        "# One-hot encode labels\n",
        "encoder = OneHotEncoder(sparse_output=False)\n",
        "y_one_hot = encoder.fit_transform(y.reshape(-1, 1))\n",
        "\n",
        "# Train/test split\n",
        "X_train, X_test, y_train, y_test = train_test_split(X, y_one_hot, test_size=0.2, random_state=42)\n",
        "\n",
        "# Normalize features\n",
        "scaler = StandardScaler()\n",
        "X_train_scaled = scaler.fit_transform(X_train)\n",
        "X_test_scaled = scaler.transform(X_test)\n",
        "\n",
        "print(\"Train shape:\", X_train_scaled.shape)\n",
        "print(\"Test shape:\", X_test_scaled.shape)"
      ],
      "id": "Lk-2hl1j7Qib",
      "execution_count": null,
      "outputs": [
        {
          "output_type": "stream",
          "name": "stdout",
          "text": [
            "Train shape: (1437, 64)\n",
            "Test shape: (360, 64)\n"
          ]
        }
      ]
    },
    {
      "cell_type": "code",
      "metadata": {
        "colab": {
          "base_uri": "https://localhost:8080/",
          "height": 192
        },
        "id": "cmpnyxut7Qic",
        "outputId": "44fb9ea4-7d0d-4add-f73e-fb3227a632fc"
      },
      "source": [
        "def plot_digits(X, y, indices):\n",
        "    n = len(indices)\n",
        "    plt.figure(figsize=(10, 4))\n",
        "    for i, idx in enumerate(indices):\n",
        "        plt.subplot(1, n, i + 1)\n",
        "        img = X[idx].reshape(8, 8)\n",
        "        plt.imshow(img, cmap='gray')\n",
        "        plt.title(f'Label: {y[idx]}')\n",
        "        plt.axis('off')\n",
        "    plt.show()\n",
        "\n",
        "plot_digits(X, y, range(5))"
      ],
      "id": "cmpnyxut7Qic",
      "execution_count": null,
      "outputs": [
        {
          "output_type": "display_data",
          "data": {
            "text/plain": [
              "<Figure size 1000x400 with 5 Axes>"
            ],
            "image/png": "[encoded data removed]"
          },
          "metadata": {}
        }
      ]
    },
    {
      "cell_type": "markdown",
      "metadata": {
        "id": "NsOxcuei7Qic"
      },
      "source": [
        "## Quick Introduction to PyTorch\n",
        "\n",
        "PyTorch is a popular deep learning framework that allows for:\n",
        "- Flexible tensor computations (similar to NumPy but with GPU acceleration).\n",
        "- Automatic differentiation via `autograd`.\n",
        "- Easy model definition using `nn.Module`.\n",
        "\n",
        "Here’s a quick demo of PyTorch basics."
      ],
      "id": "NsOxcuei7Qic"
    },
    {
      "cell_type": "code",
      "metadata": {
        "colab": {
          "base_uri": "https://localhost:8080/"
        },
        "id": "bDeWe1_r7Qic",
        "outputId": "17feba06-4342-43e1-f107-9b613fe4dda2"
      },
      "source": [
        "import torch\n",
        "\n",
        "# AUTOGRAD EXAMPLE: derivative of f(x) = x^2 + 2x + 1\n",
        "x = torch.tensor([3.0], requires_grad=True)\n",
        "y = x**2 + 2*x + 1\n",
        "y.backward()\n",
        "print(\"df/dx at x=3 (autograd):\", x.grad.item())\n",
        "\n",
        "# BASIC TENSOR SHAPES AND OPERATIONS\n",
        "t = torch.randn(8, 2, 4)\n",
        "print(\"shape:\", t.shape)\n",
        "\n",
        "# view / reshape\n",
        "t2 = t.reshape(8, -1)\n",
        "print(\"reshape:\", t2.shape)\n",
        "\n",
        "# permute (reorder dimensions)\n",
        "t3 = t.permute(0, 2, 1)\n",
        "print(\"permute:\", t3.shape)\n",
        "\n",
        "# unsqueeze / squeeze\n",
        "v = torch.randn(10)\n",
        "v_u = v.unsqueeze(0)\n",
        "print(\"unsqueeze:\", v_u.shape)\n",
        "\n",
        "# repeat (replication)\n",
        "a = torch.tensor([[1., 2.]])\n",
        "a_rep = a.repeat(3, 1)\n",
        "print(\"repeat:\\n\", a_rep)\n",
        "\n",
        "# matrix multiplication (@ is equivalent to torch.matmul)\n",
        "A = torch.randn(5, 3)\n",
        "B = torch.randn(3, 4)\n",
        "C = A @ B\n",
        "print(\"matmul shape:\", C.shape)\n",
        "\n",
        "# scatter: simple one-hot encoding\n",
        "idx = torch.tensor([2, 0, 1])\n",
        "one_hot = torch.zeros(3, 3)\n",
        "one_hot.scatter_(1, idx.unsqueeze(1), 1.)\n",
        "print(\"one-hot:\\n\", one_hot)"
      ],
      "id": "bDeWe1_r7Qic",
      "execution_count": null,
      "outputs": [
        {
          "output_type": "stream",
          "name": "stdout",
          "text": [
            "df/dx at x=3 (autograd): 8.0\n",
            "shape: torch.Size([8, 2, 4])\n",
            "reshape: torch.Size([8, 8])\n",
            "permute: torch.Size([8, 4, 2])\n",
            "unsqueeze: torch.Size([1, 10])\n",
            "repeat:\n",
            " tensor([[1., 2.],\n",
            "        [1., 2.],\n",
            "        [1., 2.]])\n",
            "matmul shape: torch.Size([5, 4])\n",
            "one-hot:\n",
            " tensor([[0., 0., 1.],\n",
            "        [1., 0., 0.],\n",
            "        [0., 1., 0.]])\n"
          ]
        }
      ]
    },
    {
      "cell_type": "code",
      "metadata": {
        "colab": {
          "base_uri": "https://localhost:8080/"
        },
        "id": "8V0Lnpnn7Qid",
        "outputId": "f39e0fcc-5fc0-40a0-8da1-92dd86a488a4"
      },
      "source": [
        "from torch.utils.data import TensorDataset, DataLoader\n",
        "\n",
        "# Convert training data to torch tensors\n",
        "X_train_tensor = torch.tensor(X_train_scaled, dtype=torch.float32)\n",
        "y_train_tensor = torch.tensor(np.argmax(y_train, axis=1), dtype=torch.long)\n",
        "\n",
        "train_dataset = TensorDataset(X_train_tensor, y_train_tensor)\n",
        "train_loader = DataLoader(train_dataset, batch_size=32, shuffle=True)\n",
        "\n",
        "# Check a batch\n",
        "for batch_X, batch_y in train_loader:\n",
        "    print(batch_X.shape, batch_y.shape)\n",
        "    break"
      ],
      "id": "8V0Lnpnn7Qid",
      "execution_count": null,
      "outputs": [
        {
          "output_type": "stream",
          "name": "stdout",
          "text": [
            "torch.Size([32, 64]) torch.Size([32])\n"
          ]
        }
      ]
    },
    {
      "cell_type": "markdown",
      "metadata": {
        "id": "ST8nDxle7Qid"
      },
      "source": [
        "## Building an MLP in PyTorch (Guided Example)\n",
        "\n",
        "We will create a simple MLP with:\n",
        "- Input layer: 64 features (8x8 image flattened)\n",
        "- Hidden layer: 128 neurons, ReLU activation\n",
        "- Output layer: 10 classes (digits 0–9)"
      ],
      "id": "ST8nDxle7Qid"
    },
    {
      "cell_type": "code",
      "metadata": {
        "colab": {
          "base_uri": "https://localhost:8080/"
        },
        "id": "_z4O5ZDo7Qid",
        "outputId": "811aa2b4-335e-4280-a8f9-16301293cdab"
      },
      "source": [
        "import torch.nn as nn\n",
        "import torch.optim as optim\n",
        "\n",
        "class DigitClassifier(nn.Module):\n",
        "    def __init__(self):\n",
        "        super().__init__()\n",
        "        self.fc1 = nn.Linear(64, 128)\n",
        "        self.fc2 = nn.Linear(128, 10)\n",
        "\n",
        "    def forward(self, x):\n",
        "        x = torch.relu(self.fc1(x))\n",
        "        x = self.fc2(x)  # raw logits\n",
        "        return x\n",
        "\n",
        "# Instantiate model, loss, optimizer\n",
        "model = DigitClassifier()\n",
        "criterion = nn.CrossEntropyLoss()\n",
        "optimizer = optim.Adam(model.parameters(), lr=0.001)\n",
        "\n",
        "# Training loop\n",
        "for epoch in range(5):\n",
        "    for batch_X, batch_y in train_loader:\n",
        "        optimizer.zero_grad()\n",
        "        outputs = model(batch_X)\n",
        "        loss = criterion(outputs, batch_y)\n",
        "        loss.backward()\n",
        "        optimizer.step()\n",
        "    print(f\"Epoch {epoch+1}, Loss: {loss.item():.4f}\")"
      ],
      "id": "_z4O5ZDo7Qid",
      "execution_count": null,
      "outputs": [
        {
          "output_type": "stream",
          "name": "stdout",
          "text": [
            "Epoch 1, Loss: 1.0547\n",
            "Epoch 2, Loss: 0.4560\n",
            "Epoch 3, Loss: 0.2937\n",
            "Epoch 4, Loss: 0.3917\n",
            "Epoch 5, Loss: 0.1000\n"
          ]
        }
      ]
    },
    {
      "cell_type": "code",
      "metadata": {
        "colab": {
          "base_uri": "https://localhost:8080/"
        },
        "id": "q0NBnwZ07Qie",
        "outputId": "c366af84-7f17-4bbf-a961-d703d696355d"
      },
      "source": [
        "# Convert test data\n",
        "X_test_tensor = torch.tensor(X_test_scaled, dtype=torch.float32)\n",
        "y_test_tensor = torch.tensor(np.argmax(y_test, axis=1), dtype=torch.long)\n",
        "\n",
        "# Evaluate accuracy\n",
        "with torch.no_grad():\n",
        "    outputs = model(X_test_tensor)\n",
        "    _, predicted = torch.max(outputs, 1)\n",
        "    acc = (predicted == y_test_tensor).float().mean().item()\n",
        "    print(f\"Test Accuracy: {acc:.4f}\")"
      ],
      "id": "q0NBnwZ07Qie",
      "execution_count": null,
      "outputs": [
        {
          "output_type": "stream",
          "name": "stdout",
          "text": [
            "Test Accuracy: 0.9667\n"
          ]
        }
      ]
    },
    {
      "cell_type": "markdown",
      "metadata": {
        "id": "4v-bVS5g7Qie"
      },
      "source": [
        "### Exercises\n",
        "\n",
        "1. MLP from scratch\n",
        "   - Reimplement the above PyTorch MLP without looking at the provided code.\n",
        "   - Aim for 97% accuracy.\n",
        "\n",
        "2. Bonus\n",
        "   - Apply the same MLP architecture to the MNIST dataset (28x28 images).\n",
        "   - Compare results with Digits."
      ],
      "id": "4v-bVS5g7Qie"
    }
  ],
  "metadata": {
    "kernelspec": {
      "display_name": "Python 3",
      "language": "python",
      "name": "python3"
    },
    "language_info": {
      "name": "python",
      "version": "3.x"
    },
    "colab": {
      "provenance": []
    }
  },
  "nbformat": 4,
  "nbformat_minor": 5
}