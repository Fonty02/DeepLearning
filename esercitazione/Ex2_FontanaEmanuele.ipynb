{
 "cells": [
  {
   "cell_type": "markdown",
   "id": "3ebb403d",
   "metadata": {},
   "source": [
    "# Deep Learning - Exercise 2\n",
    "## Emanuele Fontana\n",
    "\n",
    "This notebook contains implementations of MLP from scratch using only NumPy and PyTorch."
   ]
  },
  {
   "cell_type": "markdown",
   "id": "5f472620",
   "metadata": {},
   "source": [
    "## Import Libraries\n"
   ]
  },
  {
   "cell_type": "code",
   "execution_count": 9,
   "id": "7abca9e4",
   "metadata": {},
   "outputs": [],
   "source": [
    "import numpy as np\n",
    "import matplotlib.pyplot as plt\n",
    "from sklearn.datasets import load_digits\n",
    "from sklearn.model_selection import train_test_split\n",
    "from sklearn.preprocessing import StandardScaler, OneHotEncoder\n",
    "import torch\n"
   ]
  },
  {
   "cell_type": "markdown",
   "id": "3811705f",
   "metadata": {},
   "source": [
    "## Load Data"
   ]
  },
  {
   "cell_type": "code",
   "execution_count": 10,
   "id": "05bcc482",
   "metadata": {},
   "outputs": [
    {
     "name": "stdout",
     "output_type": "stream",
     "text": [
      "Train shape: (1149, 64)\n",
      "Test shape: (360, 64)\n"
     ]
    }
   ],
   "source": [
    "# Load dataset\n",
    "digits = load_digits()\n",
    "X, y = digits.data, digits.target\n",
    "\n",
    "# One-hot encode labels\n",
    "encoder = OneHotEncoder(sparse_output=False)\n",
    "y_one_hot = encoder.fit_transform(y.reshape(-1, 1))\n",
    "\n",
    "# Train/test split\n",
    "X_train, X_test, y_train, y_test = train_test_split(X, y_one_hot, test_size=0.2, random_state=42)\n",
    "X_train, X_val, y_train, y_val = train_test_split(X_train, y_train, test_size=0.2, random_state=42)\n",
    "\n",
    "# Normalize features\n",
    "scaler = StandardScaler()\n",
    "X_train_scaled = scaler.fit_transform(X_train)\n",
    "X_val_scaled = scaler.transform(X_val)\n",
    "X_test_scaled = scaler.transform(X_test)\n",
    "\n",
    "\n",
    "print(\"Train shape:\", X_train_scaled.shape)\n",
    "print(\"Test shape:\", X_test_scaled.shape)"
   ]
  },
  {
   "cell_type": "markdown",
   "id": "ccc0ca2e",
   "metadata": {},
   "source": [
    "## Definition of useful functions"
   ]
  },
  {
   "cell_type": "code",
   "execution_count": 11,
   "id": "3ab7151b",
   "metadata": {},
   "outputs": [],
   "source": [
    "def leaky_relu(x, alpha=0.01):\n",
    "    return torch.where(x > 0, x, alpha * x)\n",
    "\n",
    "def leaky_relu_derivative(x, alpha=0.01):\n",
    "    return torch.where(x > 0, torch.ones_like(x), alpha * torch.ones_like(x))\n",
    "\n",
    "def softmax(x):\n",
    "    exp_x = torch.exp(x - torch.max(x, dim=1, keepdim=True).values)\n",
    "    return exp_x / torch.sum(exp_x, dim=1, keepdim=True)\n",
    "\n",
    "def cross_entropy_loss(y_true, y_pred):\n",
    "    n_samples = y_true.shape[0]\n",
    "    log_preds = torch.log(y_pred)\n",
    "    loss = -torch.sum(y_true * log_preds) / n_samples\n",
    "    return loss\n",
    "\n"
   ]
  },
  {
   "cell_type": "markdown",
   "id": "aed1e2b0",
   "metadata": {},
   "source": [
    "## Define MLP from Scratch"
   ]
  },
  {
   "cell_type": "code",
   "execution_count": 25,
   "id": "3b439813",
   "metadata": {},
   "outputs": [],
   "source": [
    "class MLP:\n",
    "    def __init__(self, layer_sizes, lr=0.01,\n",
    "                 early_stopping=False, weight_decay=0.0,\n",
    "                 lr_schedule=None, lr_decay=0.5, step_size=10,\n",
    "                 gamma=0.95, min_lr=1e-6):\n",
    "\n",
    "        self.learning_rate = lr\n",
    "        self.early_stopping = early_stopping\n",
    "        self.weight_decay = weight_decay\n",
    "\n",
    "        # learning-rate scheduler params\n",
    "        self.lr_schedule = lr_schedule\n",
    "        self.lr_decay = lr_decay\n",
    "        self.step_size = step_size\n",
    "        self.gamma = gamma\n",
    "        self.min_lr = min_lr\n",
    "\n",
    "        # He initialization\n",
    "        self.W1 = torch.randn(layer_sizes[0], layer_sizes[1]) * np.sqrt(2. / layer_sizes[0])\n",
    "        self.b1 = torch.zeros(1, layer_sizes[1])\n",
    "        self.W2 = torch.randn(layer_sizes[1], layer_sizes[2]) * np.sqrt(2. / layer_sizes[1])\n",
    "        self.b2 = torch.zeros(1, layer_sizes[2])\n",
    "\n",
    "        self.best_loss = float('inf')\n",
    "        self.no_improve_epochs = 0\n",
    "\n",
    "\n",
    "    def forward(self, X):\n",
    "        self.Z1 = X @ self.W1 + self.b1\n",
    "        self.A1 = leaky_relu(self.Z1)\n",
    "        self.Z2 = self.A1 @ self.W2 + self.b2\n",
    "        self.A2 = softmax(self.Z2)\n",
    "        return self.A2\n",
    "\n",
    "\n",
    "    def backward(self, X, y_true):\n",
    "        n_samples = y_true.shape[0]\n",
    "\n",
    "        # Output layer (softmax + CE)\n",
    "        dZ2 = self.A2 - y_true\n",
    "        dW2 = (self.A1.T @ dZ2) / n_samples\n",
    "        db2 = torch.sum(dZ2, axis=0, keepdim=True) / n_samples\n",
    "\n",
    "        # Hidden\n",
    "        dA1 = dZ2 @ self.W2.T\n",
    "        dZ1 = dA1 * leaky_relu_derivative(self.Z1)\n",
    "        dW1 = (X.T @ dZ1) / n_samples\n",
    "        db1 = torch.sum(dZ1, axis=0, keepdim=True) / n_samples\n",
    "\n",
    "        # L2 regularization\n",
    "        dW2 += 2 * self.weight_decay * self.W2\n",
    "        dW1 += 2 * self.weight_decay * self.W1\n",
    "\n",
    "        # Gradient update\n",
    "        self.W2 -= self.learning_rate * dW2\n",
    "        self.b2 -= self.learning_rate * db2\n",
    "        self.W1 -= self.learning_rate * dW1\n",
    "        self.b1 -= self.learning_rate * db1\n",
    "\n",
    "\n",
    "    def _update_lr(self, epoch):\n",
    "        \"\"\"Update LR according to chosen schedule\"\"\"\n",
    "\n",
    "        if self.lr_schedule is None:\n",
    "            return\n",
    "\n",
    "        if self.lr_schedule == 'step':\n",
    "            # decay each step_size epochs\n",
    "            if (epoch + 1) % self.step_size == 0:\n",
    "                self.learning_rate = max(self.learning_rate * self.lr_decay, self.min_lr)\n",
    "\n",
    "\n",
    "        elif self.lr_schedule == 'exponential':\n",
    "            self.learning_rate = max(self.learning_rate * self.gamma, self.min_lr)\n",
    "\n",
    "\n",
    "\n",
    "    def train(self, X_train, y_train, X_val, Y_val,\n",
    "              epochs=10000, num_patience=10, batch_size=32):\n",
    "\n",
    "        for epoch in range(epochs):\n",
    "            permutation = torch.randperm(X_train.size()[0])\n",
    "            for i in range(0, X_train.size()[0], batch_size):\n",
    "                idx = permutation[i:i+batch_size]\n",
    "                X_batch, y_batch = X_train[idx], y_train[idx]\n",
    "\n",
    "                self.forward(X_batch)\n",
    "                self.backward(X_batch, y_batch)\n",
    "\n",
    "            # Evaluate validation\n",
    "            y_val_pred = self.forward(X_val)\n",
    "            val_ce = cross_entropy_loss(Y_val, y_val_pred)\n",
    "            l2_penalty = self.weight_decay * (torch.sum(self.W1**2) + torch.sum(self.W2**2))\n",
    "            val_loss = (val_ce + l2_penalty).item()\n",
    "\n",
    "            # learning-rate scheduling\n",
    "            self._update_lr(epoch)\n",
    "\n",
    "            # early stopping\n",
    "            if self.early_stopping:\n",
    "                if val_loss < self.best_loss:\n",
    "                    self.best_loss = val_loss\n",
    "                    self.no_improve_epochs = 0\n",
    "                else:\n",
    "                    self.no_improve_epochs += 1\n",
    "\n",
    "                if self.no_improve_epochs >= num_patience:\n",
    "                    print(f\"Early stopping at epoch {epoch+1}\")\n",
    "                    break\n",
    "\n",
    "\n",
    "    def predict(self, X):\n",
    "        y_pred = self.forward(X)\n",
    "        return torch.argmax(y_pred, axis=1)\n"
   ]
  },
  {
   "cell_type": "markdown",
   "id": "f8204ba5",
   "metadata": {},
   "source": [
    "## Run Training and Evaluation"
   ]
  },
  {
   "cell_type": "code",
   "execution_count": null,
   "id": "247b29f3",
   "metadata": {},
   "outputs": [],
   "source": [
    "# Convert data to torch tensors\n",
    "X_train_tensor = torch.tensor(X_train_scaled, dtype=torch.float32)\n",
    "y_train_tensor = torch.tensor(y_train, dtype=torch.float32)\n",
    "X_val_tensor = torch.tensor(X_val_scaled, dtype=torch.float32)\n",
    "y_val_tensor = torch.tensor(y_val, dtype=torch.float32)\n",
    "X_test_tensor = torch.tensor(X_test_scaled, dtype=torch.float32)\n",
    "y_test_tensor = torch.tensor(y_test, dtype=torch.float32)\n",
    "# Initialize and train MLP with STEP learning rate schedule\n",
    "mlp = MLP(layer_sizes=[64, 32, 10], lr=0.01, early_stopping=True, weight_decay=0.001, lr_schedule='step', lr_decay=0.01, step_size=100, min_lr=1e-6)\n",
    "mlp.train(X_train_tensor, y_train_tensor, X_val=X_val_tensor, Y_val=y_val_tensor, epochs=1000,batch_size=16)\n",
    "# Evaluate on test set\n",
    "y_test_pred = mlp.predict(X_test_tensor)\n",
    "accuracy = torch.sum(y_test_pred == torch.argmax(y_test_tensor, axis=1)).item() / y_test_tensor.shape[0]\n",
    "print(f\"Test Accuracy with STEP: {accuracy * 100:.2f}%\")\n",
    "\n",
    "# Initialize and train MLP with EXPONENTIAL learning rate schedule\n",
    "mlp = MLP(layer_sizes=[64, 32, 10], lr=0.01, early_stopping=True, weight_decay=0.001, lr_schedule='exponential', gamma=0.95, min_lr=1e-6)\n",
    "mlp.train(X_train_tensor, y_train_tensor, X_val=X_val_tensor, Y_val=y_val_tensor, epochs=1000,batch_size=64)\n",
    "# Evaluate on test set\n",
    "y_test_pred = mlp.predict(X_test_tensor)\n",
    "accuracy = torch.sum(y_test_pred == torch.argmax(y_test_tensor, axis=1)).item() / y_test_tensor.shape[0]\n",
    "print(f\"Test Accuracy with EXPONENTIAL: {accuracy * 100:.2f}%\")"
   ]
  },
  {
   "cell_type": "markdown",
   "id": "a4ffc9c8",
   "metadata": {},
   "source": [
    "# Now let's use MNIST dataset"
   ]
  },
  {
   "cell_type": "code",
   "execution_count": 24,
   "id": "b6757c3a",
   "metadata": {},
   "outputs": [
    {
     "name": "stdout",
     "output_type": "stream",
     "text": [
      "Test Accuracy: 95.00%\n"
     ]
    }
   ],
   "source": [
    "from torchvision import datasets, transforms\n",
    "from torch.utils.data import DataLoader\n",
    "\n",
    "# Now let's use MNIST dataset\n",
    "mnist_train = datasets.MNIST(root='./data', train=True, download=True)\n",
    "mnist_test = datasets.MNIST(root='./data', train=False, download=True)\n",
    "\n",
    "train_loader = DataLoader(mnist_train, batch_size=64, shuffle=True)\n",
    "test_loader = DataLoader(mnist_test, batch_size=1000, shuffle=False)\n",
    "\n",
    "\n",
    "\n",
    "X_train_tensor = torch.tensor(X_train_scaled, dtype=torch.float32)\n",
    "y_train_tensor = torch.tensor(y_train, dtype=torch.float32)\n",
    "X_test_tensor = torch.tensor(X_test_scaled, dtype=torch.float32)\n",
    "y_test_tensor = torch.tensor(y_test, dtype=torch.float32)\n",
    "\n",
    "\n",
    "\n",
    "# Initialize and train MLP\n",
    "mlp = MLP(layer_sizes=[64, 32, 10], lr=0.01, early_stopping=True,weight_decay=0.001)\n",
    "mlp.train(X_train_tensor, y_train_tensor, X_val=X_val_tensor, Y_val=y_val_tensor, epochs=100,batch_size=64)\n",
    "# Evaluate on test set\n",
    "y_test_pred = mlp.predict(X_test_tensor)\n",
    "accuracy = torch.sum(y_test_pred == torch.argmax(y_test_tensor, axis=1)).item() / y_test_tensor.shape[0]\n",
    "print(f\"Test Accuracy: {accuracy * 100:.2f}%\")"
   ]
  }
 ],
 "metadata": {
  "kernelspec": {
   "display_name": "deeplearning",
   "language": "python",
   "name": "python3"
  },
  "language_info": {
   "codemirror_mode": {
    "name": "ipython",
    "version": 3
   },
   "file_extension": ".py",
   "mimetype": "text/x-python",
   "name": "python",
   "nbconvert_exporter": "python",
   "pygments_lexer": "ipython3",
   "version": "3.12.11"
  }
 },
 "nbformat": 4,
 "nbformat_minor": 5
}
