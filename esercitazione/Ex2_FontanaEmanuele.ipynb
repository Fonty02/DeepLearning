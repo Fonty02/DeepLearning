{
 "cells": [
  {
   "cell_type": "markdown",
   "id": "3ebb403d",
   "metadata": {},
   "source": [
    "# Deep Learning - Exercise 2\n",
    "## Emanuele Fontana\n",
    "\n",
    "This notebook contains implementations of MLP from scratch using only NumPy and PyTorch."
   ]
  },
  {
   "cell_type": "markdown",
   "id": "5f472620",
   "metadata": {},
   "source": [
    "## Import Libraries\n"
   ]
  },
  {
   "cell_type": "code",
   "execution_count": 8,
   "id": "7abca9e4",
   "metadata": {},
   "outputs": [],
   "source": [
    "import numpy as np\n",
    "import matplotlib.pyplot as plt\n",
    "from sklearn.datasets import load_digits\n",
    "from sklearn.model_selection import train_test_split\n",
    "from sklearn.preprocessing import StandardScaler, OneHotEncoder\n",
    "import torch\n"
   ]
  },
  {
   "cell_type": "markdown",
   "id": "3811705f",
   "metadata": {},
   "source": [
    "## Load Data"
   ]
  },
  {
   "cell_type": "code",
   "execution_count": 9,
   "id": "05bcc482",
   "metadata": {},
   "outputs": [
    {
     "name": "stdout",
     "output_type": "stream",
     "text": [
      "Train shape: (1437, 64)\n",
      "Test shape: (360, 64)\n"
     ]
    }
   ],
   "source": [
    "# Load dataset\n",
    "digits = load_digits()\n",
    "X, y = digits.data, digits.target\n",
    "\n",
    "# One-hot encode labels\n",
    "encoder = OneHotEncoder(sparse_output=False)\n",
    "y_one_hot = encoder.fit_transform(y.reshape(-1, 1))\n",
    "\n",
    "# Train/test split\n",
    "X_train, X_test, y_train, y_test = train_test_split(X, y_one_hot, test_size=0.2, random_state=42)\n",
    "\n",
    "# Normalize features\n",
    "scaler = StandardScaler()\n",
    "X_train_scaled = scaler.fit_transform(X_train)\n",
    "X_test_scaled = scaler.transform(X_test)\n",
    "\n",
    "print(\"Train shape:\", X_train_scaled.shape)\n",
    "print(\"Test shape:\", X_test_scaled.shape)"
   ]
  },
  {
   "cell_type": "markdown",
   "id": "ccc0ca2e",
   "metadata": {},
   "source": [
    "## Definition of useful functions"
   ]
  },
  {
   "cell_type": "code",
   "execution_count": 22,
   "id": "3ab7151b",
   "metadata": {},
   "outputs": [],
   "source": [
    "def leaky_relu(x, alpha=0.01):\n",
    "    return torch.where(x > 0, x, alpha * x)\n",
    "\n",
    "def leaky_relu_derivative(x, alpha=0.01):\n",
    "    return torch.where(x > 0, torch.ones_like(x), alpha * torch.ones_like(x))\n",
    "\n",
    "def softmax(x):\n",
    "    exp_x = torch.exp(x - torch.max(x, dim=1, keepdim=True).values)\n",
    "    return exp_x / torch.sum(exp_x, dim=1, keepdim=True)\n",
    "\n",
    "def cross_entropy_loss(y_true, y_pred):\n",
    "    n_samples = y_true.shape[0]\n",
    "    log_preds = torch.log(y_pred + 1e-15)\n",
    "    loss = -torch.sum(y_true * log_preds) / n_samples\n",
    "    return loss\n",
    "\n",
    "\n"
   ]
  },
  {
   "cell_type": "markdown",
   "id": "aed1e2b0",
   "metadata": {},
   "source": [
    "## Define MLP from Scratch"
   ]
  },
  {
   "cell_type": "code",
   "execution_count": null,
   "id": "3b439813",
   "metadata": {},
   "outputs": [],
   "source": [
    "class MLP:\n",
    "    def __init__(self, layer_sizes, alpha=0.01, lr=0.01, early_stopping=False):\n",
    "        self.learning_rate = lr\n",
    "        self.early_stopping = early_stopping\n",
    "        #We inizialize weights with He initialization\n",
    "        self.W1 = torch.randn(layer_sizes[0], layer_sizes[1]) * np.sqrt(2. / layer_sizes[0])\n",
    "        self.b1 = torch.zeros(1, layer_sizes[1])\n",
    "        self.W2 = torch.randn(layer_sizes[1], layer_sizes[2]) * np.sqrt(2. / layer_sizes[1])\n",
    "        self.b2 = torch.zeros(1, layer_sizes[2])\n",
    "        self.best_loss = float('inf')\n",
    "        self.no_improve_epochs = 0\n",
    "\n",
    "\n",
    "    def forward(self, X):\n",
    "        self.Z1 = X@self.W1 + self.b1\n",
    "        self.A1 = leaky_relu(self.Z1)\n",
    "        self.Z2 = self.A1@self.W2 + self.b2\n",
    "        self.A2 = softmax(self.Z2)\n",
    "        return self.A2\n",
    "\n",
    "    def backward(self, X, y_true):\n",
    "        n_samples = y_true.shape[0]\n",
    "        dZ2 = self.A2 - y_true\n",
    "        dW2 = self.A1.T @ dZ2 / n_samples\n",
    "        db2 = torch.sum(dZ2, axis=0, keepdim=True) / n_samples\n",
    "\n",
    "        dA1 = dZ2 @ self.W2.T\n",
    "        dZ1 = dA1 * leaky_relu_derivative(self.Z1)\n",
    "        dW1 = X.T @ dZ1 / n_samples\n",
    "        db1 = torch.sum(dZ1, axis=0, keepdim=True) / n_samples\n",
    "\n",
    "        # Update weights and biases\n",
    "        self.W2 -= self.learning_rate * dW2\n",
    "        self.b2 -= self.learning_rate * db2\n",
    "        self.W1 -= self.learning_rate * dW1\n",
    "        self.b1 -= self.learning_rate * db1\n",
    "\n",
    "    def train(self, X, y, epochs=10000):\n",
    "        for epoch in range(epochs):\n",
    "            y_pred = self.forward(X)\n",
    "            loss = cross_entropy_loss(y, y_pred)\n",
    "\n",
    "            self.backward(X, y)\n",
    "\n",
    "            if self.early_stopping:\n",
    "                if loss.item() < self.best_loss:\n",
    "                    self.best_loss = loss.item()\n",
    "                    self.no_improve_epochs = 0\n",
    "                else:\n",
    "                    self.no_improve_epochs += 1\n",
    "                    if self.no_improve_epochs >= 10:\n",
    "                        print(f\"Early stopping at epoch {epoch}\")\n",
    "                        break\n",
    "\n",
    "            if epoch % 5000 == 0:\n",
    "                print(f\"Epoch {epoch}, Loss: {loss.item()}\")\n",
    "\n",
    "    def predict(self, X):\n",
    "        y_pred = self.forward(X)\n",
    "        return torch.argmax(y_pred, axis=1)"
   ]
  },
  {
   "cell_type": "markdown",
   "id": "f8204ba5",
   "metadata": {},
   "source": [
    "## Run Training and Evaluation"
   ]
  },
  {
   "cell_type": "code",
   "execution_count": 33,
   "id": "247b29f3",
   "metadata": {},
   "outputs": [
    {
     "name": "stdout",
     "output_type": "stream",
     "text": [
      "Epoch 0, Loss: 2.9011831283569336\n",
      "Epoch 5000, Loss: 0.05055582895874977\n",
      "Epoch 10000, Loss: 0.02211492881178856\n",
      "Epoch 15000, Loss: 0.013065772131085396\n",
      "Epoch 20000, Loss: 0.008916649036109447\n",
      "Epoch 25000, Loss: 0.0066323112696409225\n",
      "Epoch 30000, Loss: 0.0052032433450222015\n",
      "Epoch 35000, Loss: 0.0042403219267725945\n",
      "Epoch 40000, Loss: 0.003555599134415388\n",
      "Epoch 45000, Loss: 0.0030494569800794125\n",
      "Test Accuracy: 97.50%\n"
     ]
    }
   ],
   "source": [
    "# Convert data to torch tensors\n",
    "X_train_tensor = torch.tensor(X_train_scaled, dtype=torch.float32)\n",
    "y_train_tensor = torch.tensor(y_train, dtype=torch.float32)\n",
    "X_test_tensor = torch.tensor(X_test_scaled, dtype=torch.float32)\n",
    "y_test_tensor = torch.tensor(y_test, dtype=torch.float32)\n",
    "# Initialize and train MLP\n",
    "mlp = MLP(layer_sizes=[64, 32, 10], lr=0.01,  early_stopping=True)\n",
    "mlp.train(X_train_tensor, y_train_tensor, epochs=50000)\n",
    "# Evaluate on test set\n",
    "y_test_pred = mlp.predict(X_test_tensor)\n",
    "accuracy = torch.sum(y_test_pred == torch.argmax(y_test_tensor, axis=1)).item() / y_test_tensor.shape[0]\n",
    "print(f\"Test Accuracy: {accuracy * 100:.2f}%\")"
   ]
  },
  {
   "cell_type": "markdown",
   "id": "a4ffc9c8",
   "metadata": {},
   "source": [
    "# Now let's use MNIST dataset"
   ]
  },
  {
   "cell_type": "code",
   "execution_count": null,
   "id": "b6757c3a",
   "metadata": {},
   "outputs": [
    {
     "name": "stderr",
     "output_type": "stream",
     "text": [
      "100.0%\n",
      "100.0%\n",
      "100.0%\n",
      "100.0%\n"
     ]
    },
    {
     "name": "stdout",
     "output_type": "stream",
     "text": [
      "Epoch 0, Loss: 2.8666553497314453\n",
      "Epoch 5000, Loss: 0.046251021325588226\n",
      "Epoch 10000, Loss: 0.020444655790925026\n",
      "Epoch 15000, Loss: 0.011924443766474724\n",
      "Epoch 20000, Loss: 0.008118928410112858\n",
      "Epoch 25000, Loss: 0.006047670263797045\n",
      "Epoch 30000, Loss: 0.004771843086928129\n",
      "Epoch 35000, Loss: 0.0039109475910663605\n",
      "Epoch 40000, Loss: 0.0032968998420983553\n",
      "Epoch 45000, Loss: 0.0028389401268213987\n",
      "Test Accuracy: 96.67%\n"
     ]
    }
   ],
   "source": [
    "from torchvision import datasets, transforms\n",
    "from torch.utils.data import DataLoader\n",
    "\n",
    "# Now let's use MNIST dataset\n",
    "mnist_train = datasets.MNIST(root='./data', train=True, download=True)\n",
    "mnist_test = datasets.MNIST(root='./data', train=False, download=True)\n",
    "\n",
    "train_loader = DataLoader(mnist_train, batch_size=64, shuffle=True)\n",
    "test_loader = DataLoader(mnist_test, batch_size=1000, shuffle=False)\n",
    "# Convert data to torch tensors\n",
    "X_train_tensor = torch.tensor(X_train_scaled, dtype=torch.float32)\n",
    "y_train_tensor = torch.tensor(y_train, dtype=torch.float32)\n",
    "X_test_tensor = torch.tensor(X_test_scaled, dtype=torch.float32)\n",
    "y_test_tensor = torch.tensor(y_test, dtype=torch.float32)\n",
    "\n",
    "# Initialize and train MLP\n",
    "mlp = MLP(layer_sizes=[64, 32, 10], lr=0.01,early_stopping=True)\n",
    "mlp.train(X_train_tensor, y_train_tensor, epochs=50000)\n",
    "# Evaluate on test set\n",
    "y_test_pred = mlp.predict(X_test_tensor)\n",
    "accuracy = torch.sum(y_test_pred == torch.argmax(y_test_tensor, axis=1)).item() / y_test_tensor.shape[0]\n",
    "print(f\"Test Accuracy: {accuracy * 100:.2f}%\")"
   ]
  }
 ],
 "metadata": {
  "kernelspec": {
   "display_name": "deeplearning",
   "language": "python",
   "name": "python3"
  },
  "language_info": {
   "codemirror_mode": {
    "name": "ipython",
    "version": 3
   },
   "file_extension": ".py",
   "mimetype": "text/x-python",
   "name": "python",
   "nbconvert_exporter": "python",
   "pygments_lexer": "ipython3",
   "version": "3.12.11"
  }
 },
 "nbformat": 4,
 "nbformat_minor": 5
}
